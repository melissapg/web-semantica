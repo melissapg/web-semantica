{
 "cells": [
  {
   "cell_type": "code",
   "execution_count": 1,
   "metadata": {},
   "outputs": [],
   "source": [
    "from selenium import webdriver\n",
    "from bs4 import BeautifulSoup as bs\n",
    "import pandas as pd"
   ]
  },
  {
   "cell_type": "code",
   "execution_count": 2,
   "metadata": {},
   "outputs": [],
   "source": [
    "# creating a webdriver instance\n",
    "# driver = webdriver.Chrome('TEBD\\chromedriver.exe')\n",
    "options = webdriver.ChromeOptions()\n",
    "options.add_argument(\"--headless\")\n",
    "driver = webdriver.Chrome(options=options)"
   ]
  },
  {
   "cell_type": "code",
   "execution_count": 3,
   "metadata": {},
   "outputs": [],
   "source": [
    "def get_alimentos(soup):\n",
    "  # pegando todos os alimentos da pagina\n",
    "  result_all = []\n",
    "  for alimento in soup.find_all('tr'):\n",
    "    caracteristicas = alimento.find_all('a')\n",
    "    result = [th for th in caracteristicas]\n",
    "    result_all.append(result)\n",
    "\n",
    "  # infos iniciais dos alimentos\n",
    "  df = pd.DataFrame()\n",
    "  base = 'http://www.tbca.net.br/base-dados/'\n",
    "  for i in range (len(result_all)):\n",
    "    if i==0: continue\n",
    "    row_data = {}\n",
    "    row_data['url'] = base + result_all[i][0]['href']\n",
    "    row_data['codigo'] = result_all[i][0].text\n",
    "    row_data['nome'] = result_all[i][1].text\n",
    "    row_data['nome_ingles'] = result_all[i][2].text\n",
    "    row_data['nome_cientifico'] = result_all[i][3].text\n",
    "    row_data['grupo'] = result_all[i][4].text\n",
    "    row_data['marca'] = result_all[i][5].text\n",
    "\n",
    "    row_df = pd.DataFrame.from_records([row_data])\n",
    "    df = pd.concat([df, row_df], ignore_index=True)\n",
    "\n",
    "  return df"
   ]
  },
  {
   "cell_type": "code",
   "execution_count": 4,
   "metadata": {},
   "outputs": [],
   "source": [
    "def composicao_alimento(soup, cod_alimento):\n",
    "  soup = soup.find('table', class_='display dataTable no-footer')\n",
    "\n",
    "  result_all = []\n",
    "  for item in soup.find_all('tr'):\n",
    "    caracteristicas = item.find_all('td')\n",
    "    result = [th for th in caracteristicas]\n",
    "    result_all.append(result)\n",
    "\n",
    "  # composicao dos alimentos\n",
    "  df = pd.DataFrame()\n",
    "  df.loc[0, 'codigo'] = cod_alimento\n",
    "  for i in range (len(result_all)):\n",
    "    if i==0: continue\n",
    "    df.loc[0, result_all[i][0].text + f' ({result_all[i][1].text})'] = result_all[i][2].text\n",
    "  \n",
    "  return df"
   ]
  },
  {
   "attachments": {},
   "cell_type": "markdown",
   "metadata": {},
   "source": [
    "# Execução"
   ]
  },
  {
   "cell_type": "code",
   "execution_count": 5,
   "metadata": {},
   "outputs": [],
   "source": [
    "# trocando as paginas\n",
    "alimentos = pd.DataFrame()\n",
    "for page in range(1, 58):\n",
    "  driver.get(f\"http://www.tbca.net.br/base-dados/composicao_alimentos.php?pagina={page}&atuald=1\")\n",
    "  soup = bs(driver.page_source, 'lxml') # parseamento\n",
    "\n",
    "  alimentos_page = get_alimentos(soup)\n",
    "  alimentos = pd.concat([alimentos, alimentos_page], ignore_index=True)"
   ]
  },
  {
   "cell_type": "code",
   "execution_count": 7,
   "metadata": {},
   "outputs": [],
   "source": [
    "# composicao dos alimentos\n",
    "df_final = pd.DataFrame()\n",
    "temp = pd.DataFrame()\n",
    "for index, row in alimentos.iterrows():\n",
    "  driver.get(row['url'])\n",
    "  \n",
    "  soup = bs(driver.page_source, 'lxml') # parseamento\n",
    "  comp_item = composicao_alimento(soup, row['codigo'])\n",
    "  temp = alimentos.merge(comp_item, on='codigo')\n",
    "  df_final = pd.concat([df_final, temp], ignore_index=True)"
   ]
  },
  {
   "cell_type": "code",
   "execution_count": 11,
   "metadata": {},
   "outputs": [],
   "source": [
    "df_final.to_csv('tbca.csv', encoding='utf-8', index=False)"
   ]
  }
 ],
 "metadata": {
  "kernelspec": {
   "display_name": "Python 3",
   "language": "python",
   "name": "python3"
  },
  "language_info": {
   "codemirror_mode": {
    "name": "ipython",
    "version": 3
   },
   "file_extension": ".py",
   "mimetype": "text/x-python",
   "name": "python",
   "nbconvert_exporter": "python",
   "pygments_lexer": "ipython3",
   "version": "3.9.7"
  },
  "orig_nbformat": 4
 },
 "nbformat": 4,
 "nbformat_minor": 2
}
